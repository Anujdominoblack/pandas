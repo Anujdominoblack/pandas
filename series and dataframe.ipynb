{
 "cells": [
  {
   "cell_type": "code",
   "execution_count": 1,
   "id": "a78886f0",
   "metadata": {},
   "outputs": [],
   "source": [
    "import pandas as pd"
   ]
  },
  {
   "cell_type": "code",
   "execution_count": 4,
   "id": "6058f257",
   "metadata": {},
   "outputs": [],
   "source": [
    "x = [1,2,3]"
   ]
  },
  {
   "cell_type": "code",
   "execution_count": 6,
   "id": "fc6e54bf",
   "metadata": {},
   "outputs": [],
   "source": [
    "var  = pd.Series(x)"
   ]
  },
  {
   "cell_type": "code",
   "execution_count": 7,
   "id": "a9e33dba",
   "metadata": {},
   "outputs": [
    {
     "data": {
      "text/plain": [
       "0    1\n",
       "1    2\n",
       "2    3\n",
       "dtype: int64"
      ]
     },
     "execution_count": 7,
     "metadata": {},
     "output_type": "execute_result"
    }
   ],
   "source": [
    "var"
   ]
  },
  {
   "cell_type": "code",
   "execution_count": 8,
   "id": "93ca68f7",
   "metadata": {},
   "outputs": [
    {
     "data": {
      "text/plain": [
       "0    [1, 2, 3]\n",
       "1    [4, 5, 6]\n",
       "dtype: object"
      ]
     },
     "execution_count": 8,
     "metadata": {},
     "output_type": "execute_result"
    }
   ],
   "source": [
    "pd.Series([[1,2,3],[4,5,6]])"
   ]
  },
  {
   "cell_type": "code",
   "execution_count": 9,
   "id": "8f264609",
   "metadata": {},
   "outputs": [
    {
     "name": "stdout",
     "output_type": "stream",
     "text": [
      "<class 'pandas.core.series.Series'>\n"
     ]
    }
   ],
   "source": [
    "print(type(var))"
   ]
  },
  {
   "cell_type": "code",
   "execution_count": 10,
   "id": "148ef5c5",
   "metadata": {},
   "outputs": [],
   "source": [
    "# now we will chaneg index of the pandas seris"
   ]
  },
  {
   "cell_type": "code",
   "execution_count": 19,
   "id": "d6f166a0",
   "metadata": {},
   "outputs": [],
   "source": [
    "var = pd.Series(x,index=['A','B','c'])  # the length of te obect in the series and the length of the object in index should be equal"
   ]
  },
  {
   "cell_type": "code",
   "execution_count": 20,
   "id": "e97994a5",
   "metadata": {},
   "outputs": [
    {
     "data": {
      "text/plain": [
       "A    1\n",
       "B    2\n",
       "c    3\n",
       "dtype: int64"
      ]
     },
     "execution_count": 20,
     "metadata": {},
     "output_type": "execute_result"
    }
   ],
   "source": [
    "var"
   ]
  },
  {
   "cell_type": "code",
   "execution_count": 21,
   "id": "26c5875a",
   "metadata": {},
   "outputs": [],
   "source": [
    "# now we will data type of series data"
   ]
  },
  {
   "cell_type": "code",
   "execution_count": 22,
   "id": "cc5889e2",
   "metadata": {},
   "outputs": [],
   "source": [
    "var = pd.Series(x,index=['A','B','C'],dtype=float)"
   ]
  },
  {
   "cell_type": "code",
   "execution_count": 23,
   "id": "b0303b9b",
   "metadata": {},
   "outputs": [
    {
     "data": {
      "text/plain": [
       "A    1.0\n",
       "B    2.0\n",
       "C    3.0\n",
       "dtype: float64"
      ]
     },
     "execution_count": 23,
     "metadata": {},
     "output_type": "execute_result"
    }
   ],
   "source": [
    "var"
   ]
  },
  {
   "cell_type": "code",
   "execution_count": 24,
   "id": "1d2ba578",
   "metadata": {},
   "outputs": [],
   "source": [
    "# now we will use name parameter to give name to our database"
   ]
  },
  {
   "cell_type": "code",
   "execution_count": 25,
   "id": "cb0fd590",
   "metadata": {},
   "outputs": [],
   "source": [
    "var  = pd.Series(x,index=['A','B','C'],dtype=float,name='python')"
   ]
  },
  {
   "cell_type": "code",
   "execution_count": 26,
   "id": "eb7c01e2",
   "metadata": {},
   "outputs": [
    {
     "data": {
      "text/plain": [
       "A    1.0\n",
       "B    2.0\n",
       "C    3.0\n",
       "Name: python, dtype: float64"
      ]
     },
     "execution_count": 26,
     "metadata": {},
     "output_type": "execute_result"
    }
   ],
   "source": [
    "var"
   ]
  },
  {
   "cell_type": "code",
   "execution_count": 27,
   "id": "4cb53604",
   "metadata": {},
   "outputs": [],
   "source": [
    "# now we can create series using datatype list,dictionary,tuple anything "
   ]
  },
  {
   "cell_type": "code",
   "execution_count": 28,
   "id": "8b260faf",
   "metadata": {},
   "outputs": [],
   "source": [
    "# for example"
   ]
  },
  {
   "cell_type": "code",
   "execution_count": 29,
   "id": "4a12f219",
   "metadata": {},
   "outputs": [],
   "source": [
    "# using dictionary"
   ]
  },
  {
   "cell_type": "code",
   "execution_count": 103,
   "id": "2824ed4c",
   "metadata": {},
   "outputs": [],
   "source": [
    "dict={'name':[\"anuj\",\"akhil\",\"ANkush\",\"VINIT\"],\n",
    "       'parity':[12,1,31,34],\n",
    "       'rank':[1,2,3,4]}"
   ]
  },
  {
   "cell_type": "code",
   "execution_count": 104,
   "id": "4e81f6f0",
   "metadata": {},
   "outputs": [
    {
     "data": {
      "text/plain": [
       "name      [anuj, akhil, ANkush, VINIT]\n",
       "parity                 [12, 1, 31, 34]\n",
       "rank                      [1, 2, 3, 4]\n",
       "dtype: object"
      ]
     },
     "execution_count": 104,
     "metadata": {},
     "output_type": "execute_result"
    }
   ],
   "source": [
    "pd.Series(dict) # when we use dictionary keys become the heading"
   ]
  },
  {
   "cell_type": "code",
   "execution_count": 33,
   "id": "3abdcd24",
   "metadata": {},
   "outputs": [],
   "source": [
    "#now we will use tuple for that thing"
   ]
  },
  {
   "cell_type": "code",
   "execution_count": 34,
   "id": "98754538",
   "metadata": {},
   "outputs": [],
   "source": [
    "tuple = 'six','seven','eight'"
   ]
  },
  {
   "cell_type": "code",
   "execution_count": 35,
   "id": "09a8ed74",
   "metadata": {},
   "outputs": [
    {
     "data": {
      "text/plain": [
       "0      six\n",
       "1    seven\n",
       "2    eight\n",
       "dtype: object"
      ]
     },
     "execution_count": 35,
     "metadata": {},
     "output_type": "execute_result"
    }
   ],
   "source": [
    "pd.Series(tuple)"
   ]
  },
  {
   "cell_type": "code",
   "execution_count": 36,
   "id": "a900b7f6",
   "metadata": {},
   "outputs": [],
   "source": [
    "#now we will cretae series from simple thing"
   ]
  },
  {
   "cell_type": "code",
   "execution_count": 43,
   "id": "b1fdded4",
   "metadata": {},
   "outputs": [
    {
     "data": {
      "text/plain": [
       "0    12\n",
       "dtype: int64"
      ]
     },
     "execution_count": 43,
     "metadata": {},
     "output_type": "execute_result"
    }
   ],
   "source": [
    "pd.Series(12)"
   ]
  },
  {
   "cell_type": "code",
   "execution_count": 44,
   "id": "36c3d8fa",
   "metadata": {},
   "outputs": [],
   "source": [
    "s2 = pd.Series(12,index=[1,2,3,4,5,6])  # it will create same number of values equal to index"
   ]
  },
  {
   "cell_type": "code",
   "execution_count": 45,
   "id": "6f8c8650",
   "metadata": {},
   "outputs": [],
   "source": [
    "\n",
    "s1 = pd.Series(13,index=[1,2,3,4,5])"
   ]
  },
  {
   "cell_type": "code",
   "execution_count": 47,
   "id": "52a09919",
   "metadata": {},
   "outputs": [
    {
     "name": "stdout",
     "output_type": "stream",
     "text": [
      "1    25.0\n",
      "2    25.0\n",
      "3    25.0\n",
      "4    25.0\n",
      "5    25.0\n",
      "6     NaN\n",
      "dtype: float64\n"
     ]
    }
   ],
   "source": [
    "print(s1+s2) # it will do the sum upto the matching index number after that nan will be showed"
   ]
  },
  {
   "cell_type": "code",
   "execution_count": null,
   "id": "15dbfae3",
   "metadata": {},
   "outputs": [],
   "source": []
  },
  {
   "cell_type": "code",
   "execution_count": 48,
   "id": "803a7e01",
   "metadata": {},
   "outputs": [],
   "source": [
    "# now we will about dataframe"
   ]
  },
  {
   "cell_type": "code",
   "execution_count": 52,
   "id": "7832f582",
   "metadata": {},
   "outputs": [],
   "source": [
    "q = [10,11,12,13,14]"
   ]
  },
  {
   "cell_type": "code",
   "execution_count": 53,
   "id": "c08905d3",
   "metadata": {},
   "outputs": [],
   "source": [
    "var1 = pd.DataFrame(q)"
   ]
  },
  {
   "cell_type": "code",
   "execution_count": 54,
   "id": "e6cea932",
   "metadata": {},
   "outputs": [
    {
     "data": {
      "text/html": [
       "<div>\n",
       "<style scoped>\n",
       "    .dataframe tbody tr th:only-of-type {\n",
       "        vertical-align: middle;\n",
       "    }\n",
       "\n",
       "    .dataframe tbody tr th {\n",
       "        vertical-align: top;\n",
       "    }\n",
       "\n",
       "    .dataframe thead th {\n",
       "        text-align: right;\n",
       "    }\n",
       "</style>\n",
       "<table border=\"1\" class=\"dataframe\">\n",
       "  <thead>\n",
       "    <tr style=\"text-align: right;\">\n",
       "      <th></th>\n",
       "      <th>0</th>\n",
       "    </tr>\n",
       "  </thead>\n",
       "  <tbody>\n",
       "    <tr>\n",
       "      <th>0</th>\n",
       "      <td>10</td>\n",
       "    </tr>\n",
       "    <tr>\n",
       "      <th>1</th>\n",
       "      <td>11</td>\n",
       "    </tr>\n",
       "    <tr>\n",
       "      <th>2</th>\n",
       "      <td>12</td>\n",
       "    </tr>\n",
       "    <tr>\n",
       "      <th>3</th>\n",
       "      <td>13</td>\n",
       "    </tr>\n",
       "    <tr>\n",
       "      <th>4</th>\n",
       "      <td>14</td>\n",
       "    </tr>\n",
       "  </tbody>\n",
       "</table>\n",
       "</div>"
      ],
      "text/plain": [
       "    0\n",
       "0  10\n",
       "1  11\n",
       "2  12\n",
       "3  13\n",
       "4  14"
      ]
     },
     "execution_count": 54,
     "metadata": {},
     "output_type": "execute_result"
    }
   ],
   "source": [
    "var1"
   ]
  },
  {
   "cell_type": "code",
   "execution_count": 57,
   "id": "bb3a05f7",
   "metadata": {},
   "outputs": [],
   "source": [
    "var2 = pd.DataFrame([[1,2,3],[10,11,12],[13,14,15,16]])  # each list becomes a coloumn and element of list corresponds to index"
   ]
  },
  {
   "cell_type": "code",
   "execution_count": 58,
   "id": "fc954ea9",
   "metadata": {},
   "outputs": [
    {
     "data": {
      "text/html": [
       "<div>\n",
       "<style scoped>\n",
       "    .dataframe tbody tr th:only-of-type {\n",
       "        vertical-align: middle;\n",
       "    }\n",
       "\n",
       "    .dataframe tbody tr th {\n",
       "        vertical-align: top;\n",
       "    }\n",
       "\n",
       "    .dataframe thead th {\n",
       "        text-align: right;\n",
       "    }\n",
       "</style>\n",
       "<table border=\"1\" class=\"dataframe\">\n",
       "  <thead>\n",
       "    <tr style=\"text-align: right;\">\n",
       "      <th></th>\n",
       "      <th>0</th>\n",
       "      <th>1</th>\n",
       "      <th>2</th>\n",
       "      <th>3</th>\n",
       "    </tr>\n",
       "  </thead>\n",
       "  <tbody>\n",
       "    <tr>\n",
       "      <th>0</th>\n",
       "      <td>1</td>\n",
       "      <td>2</td>\n",
       "      <td>3</td>\n",
       "      <td>NaN</td>\n",
       "    </tr>\n",
       "    <tr>\n",
       "      <th>1</th>\n",
       "      <td>10</td>\n",
       "      <td>11</td>\n",
       "      <td>12</td>\n",
       "      <td>NaN</td>\n",
       "    </tr>\n",
       "    <tr>\n",
       "      <th>2</th>\n",
       "      <td>13</td>\n",
       "      <td>14</td>\n",
       "      <td>15</td>\n",
       "      <td>16.0</td>\n",
       "    </tr>\n",
       "  </tbody>\n",
       "</table>\n",
       "</div>"
      ],
      "text/plain": [
       "    0   1   2     3\n",
       "0   1   2   3   NaN\n",
       "1  10  11  12   NaN\n",
       "2  13  14  15  16.0"
      ]
     },
     "execution_count": 58,
     "metadata": {},
     "output_type": "execute_result"
    }
   ],
   "source": [
    "var2"
   ]
  },
  {
   "cell_type": "code",
   "execution_count": 59,
   "id": "1ca15887",
   "metadata": {},
   "outputs": [],
   "source": [
    "# create dataframe using dctionary"
   ]
  },
  {
   "cell_type": "code",
   "execution_count": 64,
   "id": "87be86b9",
   "metadata": {},
   "outputs": [],
   "source": [
    "dict1 = {'a':[1,2,3,4,5],'b':[1,2,3,4,5]}  # the values should of same length here key corresponds to coloumn"
   ]
  },
  {
   "cell_type": "code",
   "execution_count": 65,
   "id": "4b72da63",
   "metadata": {},
   "outputs": [
    {
     "data": {
      "text/html": [
       "<div>\n",
       "<style scoped>\n",
       "    .dataframe tbody tr th:only-of-type {\n",
       "        vertical-align: middle;\n",
       "    }\n",
       "\n",
       "    .dataframe tbody tr th {\n",
       "        vertical-align: top;\n",
       "    }\n",
       "\n",
       "    .dataframe thead th {\n",
       "        text-align: right;\n",
       "    }\n",
       "</style>\n",
       "<table border=\"1\" class=\"dataframe\">\n",
       "  <thead>\n",
       "    <tr style=\"text-align: right;\">\n",
       "      <th></th>\n",
       "      <th>a</th>\n",
       "      <th>b</th>\n",
       "    </tr>\n",
       "  </thead>\n",
       "  <tbody>\n",
       "    <tr>\n",
       "      <th>0</th>\n",
       "      <td>1</td>\n",
       "      <td>1</td>\n",
       "    </tr>\n",
       "    <tr>\n",
       "      <th>1</th>\n",
       "      <td>2</td>\n",
       "      <td>2</td>\n",
       "    </tr>\n",
       "    <tr>\n",
       "      <th>2</th>\n",
       "      <td>3</td>\n",
       "      <td>3</td>\n",
       "    </tr>\n",
       "    <tr>\n",
       "      <th>3</th>\n",
       "      <td>4</td>\n",
       "      <td>4</td>\n",
       "    </tr>\n",
       "    <tr>\n",
       "      <th>4</th>\n",
       "      <td>5</td>\n",
       "      <td>5</td>\n",
       "    </tr>\n",
       "  </tbody>\n",
       "</table>\n",
       "</div>"
      ],
      "text/plain": [
       "   a  b\n",
       "0  1  1\n",
       "1  2  2\n",
       "2  3  3\n",
       "3  4  4\n",
       "4  5  5"
      ]
     },
     "execution_count": 65,
     "metadata": {},
     "output_type": "execute_result"
    }
   ],
   "source": [
    "pd.DataFrame(dict1)"
   ]
  },
  {
   "cell_type": "code",
   "execution_count": 66,
   "id": "75957097",
   "metadata": {},
   "outputs": [],
   "source": [
    "# to access a specific coloumn"
   ]
  },
  {
   "cell_type": "code",
   "execution_count": 70,
   "id": "88de629a",
   "metadata": {},
   "outputs": [],
   "source": [
    "var3 = pd.DataFrame(dict1,columns=['a'])  # calling a specific coloumn"
   ]
  },
  {
   "cell_type": "code",
   "execution_count": 71,
   "id": "13c8fcab",
   "metadata": {},
   "outputs": [
    {
     "data": {
      "text/html": [
       "<div>\n",
       "<style scoped>\n",
       "    .dataframe tbody tr th:only-of-type {\n",
       "        vertical-align: middle;\n",
       "    }\n",
       "\n",
       "    .dataframe tbody tr th {\n",
       "        vertical-align: top;\n",
       "    }\n",
       "\n",
       "    .dataframe thead th {\n",
       "        text-align: right;\n",
       "    }\n",
       "</style>\n",
       "<table border=\"1\" class=\"dataframe\">\n",
       "  <thead>\n",
       "    <tr style=\"text-align: right;\">\n",
       "      <th></th>\n",
       "      <th>a</th>\n",
       "    </tr>\n",
       "  </thead>\n",
       "  <tbody>\n",
       "    <tr>\n",
       "      <th>0</th>\n",
       "      <td>1</td>\n",
       "    </tr>\n",
       "    <tr>\n",
       "      <th>1</th>\n",
       "      <td>2</td>\n",
       "    </tr>\n",
       "    <tr>\n",
       "      <th>2</th>\n",
       "      <td>3</td>\n",
       "    </tr>\n",
       "    <tr>\n",
       "      <th>3</th>\n",
       "      <td>4</td>\n",
       "    </tr>\n",
       "    <tr>\n",
       "      <th>4</th>\n",
       "      <td>5</td>\n",
       "    </tr>\n",
       "  </tbody>\n",
       "</table>\n",
       "</div>"
      ],
      "text/plain": [
       "   a\n",
       "0  1\n",
       "1  2\n",
       "2  3\n",
       "3  4\n",
       "4  5"
      ]
     },
     "execution_count": 71,
     "metadata": {},
     "output_type": "execute_result"
    }
   ],
   "source": [
    "var3"
   ]
  },
  {
   "cell_type": "code",
   "execution_count": 72,
   "id": "dbd246eb",
   "metadata": {},
   "outputs": [],
   "source": [
    "# to change the index"
   ]
  },
  {
   "cell_type": "code",
   "execution_count": 77,
   "id": "4a4ab673",
   "metadata": {},
   "outputs": [],
   "source": [
    "var4 = pd.DataFrame(dict1,columns=['b'],index=['a','b','c','d','e'])"
   ]
  },
  {
   "cell_type": "code",
   "execution_count": 79,
   "id": "4abdf9e4",
   "metadata": {},
   "outputs": [
    {
     "data": {
      "text/html": [
       "<div>\n",
       "<style scoped>\n",
       "    .dataframe tbody tr th:only-of-type {\n",
       "        vertical-align: middle;\n",
       "    }\n",
       "\n",
       "    .dataframe tbody tr th {\n",
       "        vertical-align: top;\n",
       "    }\n",
       "\n",
       "    .dataframe thead th {\n",
       "        text-align: right;\n",
       "    }\n",
       "</style>\n",
       "<table border=\"1\" class=\"dataframe\">\n",
       "  <thead>\n",
       "    <tr style=\"text-align: right;\">\n",
       "      <th></th>\n",
       "      <th>b</th>\n",
       "    </tr>\n",
       "  </thead>\n",
       "  <tbody>\n",
       "    <tr>\n",
       "      <th>a</th>\n",
       "      <td>1</td>\n",
       "    </tr>\n",
       "    <tr>\n",
       "      <th>b</th>\n",
       "      <td>2</td>\n",
       "    </tr>\n",
       "    <tr>\n",
       "      <th>c</th>\n",
       "      <td>3</td>\n",
       "    </tr>\n",
       "    <tr>\n",
       "      <th>d</th>\n",
       "      <td>4</td>\n",
       "    </tr>\n",
       "    <tr>\n",
       "      <th>e</th>\n",
       "      <td>5</td>\n",
       "    </tr>\n",
       "  </tbody>\n",
       "</table>\n",
       "</div>"
      ],
      "text/plain": [
       "   b\n",
       "a  1\n",
       "b  2\n",
       "c  3\n",
       "d  4\n",
       "e  5"
      ]
     },
     "execution_count": 79,
     "metadata": {},
     "output_type": "execute_result"
    }
   ],
   "source": [
    "var4  # here we have accessed a particular colomn and changed it index"
   ]
  },
  {
   "cell_type": "code",
   "execution_count": 80,
   "id": "cff130f4",
   "metadata": {},
   "outputs": [],
   "source": [
    "# ow accesiing a particular value"
   ]
  },
  {
   "cell_type": "code",
   "execution_count": 84,
   "id": "335f056d",
   "metadata": {},
   "outputs": [
    {
     "name": "stdout",
     "output_type": "stream",
     "text": [
      "4\n"
     ]
    }
   ],
   "source": [
    "print(var3[\"a\"][3])"
   ]
  },
  {
   "cell_type": "code",
   "execution_count": 85,
   "id": "dcf2a5c4",
   "metadata": {},
   "outputs": [],
   "source": [
    "# create a list using multiple list"
   ]
  },
  {
   "cell_type": "code",
   "execution_count": 89,
   "id": "747e661b",
   "metadata": {},
   "outputs": [],
   "source": [
    "list_1 =[['a','b','c','d'],['p','q','r','s','x']]  # data hamesha serially hi bharega coloumns"
   ]
  },
  {
   "cell_type": "code",
   "execution_count": 90,
   "id": "77a088e6",
   "metadata": {},
   "outputs": [
    {
     "data": {
      "text/html": [
       "<div>\n",
       "<style scoped>\n",
       "    .dataframe tbody tr th:only-of-type {\n",
       "        vertical-align: middle;\n",
       "    }\n",
       "\n",
       "    .dataframe tbody tr th {\n",
       "        vertical-align: top;\n",
       "    }\n",
       "\n",
       "    .dataframe thead th {\n",
       "        text-align: right;\n",
       "    }\n",
       "</style>\n",
       "<table border=\"1\" class=\"dataframe\">\n",
       "  <thead>\n",
       "    <tr style=\"text-align: right;\">\n",
       "      <th></th>\n",
       "      <th>0</th>\n",
       "      <th>1</th>\n",
       "      <th>2</th>\n",
       "      <th>3</th>\n",
       "      <th>4</th>\n",
       "    </tr>\n",
       "  </thead>\n",
       "  <tbody>\n",
       "    <tr>\n",
       "      <th>0</th>\n",
       "      <td>a</td>\n",
       "      <td>b</td>\n",
       "      <td>c</td>\n",
       "      <td>d</td>\n",
       "      <td>None</td>\n",
       "    </tr>\n",
       "    <tr>\n",
       "      <th>1</th>\n",
       "      <td>p</td>\n",
       "      <td>q</td>\n",
       "      <td>r</td>\n",
       "      <td>s</td>\n",
       "      <td>x</td>\n",
       "    </tr>\n",
       "  </tbody>\n",
       "</table>\n",
       "</div>"
      ],
      "text/plain": [
       "   0  1  2  3     4\n",
       "0  a  b  c  d  None\n",
       "1  p  q  r  s     x"
      ]
     },
     "execution_count": 90,
     "metadata": {},
     "output_type": "execute_result"
    }
   ],
   "source": [
    "pd.DataFrame(list_1)"
   ]
  },
  {
   "cell_type": "code",
   "execution_count": 91,
   "id": "d049f1e2",
   "metadata": {},
   "outputs": [],
   "source": [
    "#complex pandas"
   ]
  },
  {
   "cell_type": "code",
   "execution_count": 98,
   "id": "94616f57",
   "metadata": {},
   "outputs": [],
   "source": [
    "s = {\"s\":pd.Series([1,2,3,4]),\"f\":pd.Series([10,11,12,13,15])}"
   ]
  },
  {
   "cell_type": "code",
   "execution_count": 99,
   "id": "3925f328",
   "metadata": {},
   "outputs": [
    {
     "data": {
      "text/html": [
       "<div>\n",
       "<style scoped>\n",
       "    .dataframe tbody tr th:only-of-type {\n",
       "        vertical-align: middle;\n",
       "    }\n",
       "\n",
       "    .dataframe tbody tr th {\n",
       "        vertical-align: top;\n",
       "    }\n",
       "\n",
       "    .dataframe thead th {\n",
       "        text-align: right;\n",
       "    }\n",
       "</style>\n",
       "<table border=\"1\" class=\"dataframe\">\n",
       "  <thead>\n",
       "    <tr style=\"text-align: right;\">\n",
       "      <th></th>\n",
       "      <th>s</th>\n",
       "      <th>f</th>\n",
       "    </tr>\n",
       "  </thead>\n",
       "  <tbody>\n",
       "    <tr>\n",
       "      <th>0</th>\n",
       "      <td>1.0</td>\n",
       "      <td>10</td>\n",
       "    </tr>\n",
       "    <tr>\n",
       "      <th>1</th>\n",
       "      <td>2.0</td>\n",
       "      <td>11</td>\n",
       "    </tr>\n",
       "    <tr>\n",
       "      <th>2</th>\n",
       "      <td>3.0</td>\n",
       "      <td>12</td>\n",
       "    </tr>\n",
       "    <tr>\n",
       "      <th>3</th>\n",
       "      <td>4.0</td>\n",
       "      <td>13</td>\n",
       "    </tr>\n",
       "    <tr>\n",
       "      <th>4</th>\n",
       "      <td>NaN</td>\n",
       "      <td>15</td>\n",
       "    </tr>\n",
       "  </tbody>\n",
       "</table>\n",
       "</div>"
      ],
      "text/plain": [
       "     s   f\n",
       "0  1.0  10\n",
       "1  2.0  11\n",
       "2  3.0  12\n",
       "3  4.0  13\n",
       "4  NaN  15"
      ]
     },
     "execution_count": 99,
     "metadata": {},
     "output_type": "execute_result"
    }
   ],
   "source": [
    "pd.DataFrame(s)"
   ]
  },
  {
   "cell_type": "code",
   "execution_count": 100,
   "id": "4fe7bd3c",
   "metadata": {},
   "outputs": [],
   "source": [
    "#arithmatic operators on pandas "
   ]
  },
  {
   "cell_type": "code",
   "execution_count": null,
   "id": "d6e1013d",
   "metadata": {},
   "outputs": [],
   "source": []
  }
 ],
 "metadata": {
  "kernelspec": {
   "display_name": "Python 3 (ipykernel)",
   "language": "python",
   "name": "python3"
  },
  "language_info": {
   "codemirror_mode": {
    "name": "ipython",
    "version": 3
   },
   "file_extension": ".py",
   "mimetype": "text/x-python",
   "name": "python",
   "nbconvert_exporter": "python",
   "pygments_lexer": "ipython3",
   "version": "3.10.9"
  }
 },
 "nbformat": 4,
 "nbformat_minor": 5
}
